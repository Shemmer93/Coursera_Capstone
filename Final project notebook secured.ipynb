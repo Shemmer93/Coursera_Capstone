{
 "cells": [
  {
   "cell_type": "markdown",
   "metadata": {},
   "source": [
    "# Final project notebook"
   ]
  },
  {
   "cell_type": "markdown",
   "metadata": {},
   "source": [
    "Welcome to this notebook that includes all the neccesary code for the final Coursera Capstone Project: Mystery city recommender.\n",
    "\n",
    "We will start off by importing the libraries that we will need."
   ]
  },
  {
   "cell_type": "code",
   "execution_count": 17,
   "metadata": {},
   "outputs": [
    {
     "name": "stderr",
     "output_type": "stream",
     "text": [
      "[nltk_data] Downloading package stopwords to\n",
      "[nltk_data]     /home/dsxuser/nltk_data...\n",
      "[nltk_data]   Unzipping corpora/stopwords.zip.\n"
     ]
    }
   ],
   "source": [
    "import json\n",
    "import urllib.request\n",
    "import itertools\n",
    "import numpy as np\n",
    "import pandas as pd\n",
    "import seaborn as sns\n",
    "import matplotlib.pyplot as plt\n",
    "import scipy.stats as stats # import statistics package\n",
    "import geopy.distance # calculates distance between points\n",
    "import requests # library to handle requests\n",
    "from pandas.io.json import json_normalize # tranform JSON file into a pandas dataframe\n",
    "\n",
    "# import some sklearn packages for ML purposes\n",
    "from sklearn.feature_extraction.text import CountVectorizer\n",
    "from sklearn.preprocessing import StandardScaler\n",
    "from sklearn.metrics.pairwise import cosine_similarity\n",
    "from sklearn import metrics\n",
    "\n",
    "# natural language processing\n",
    "import nltk\n",
    "from nltk.corpus import stopwords\n",
    "nltk.download('stopwords')\n",
    "\n",
    "%matplotlib inline"
   ]
  },
  {
   "cell_type": "markdown",
   "metadata": {},
   "source": [
    "# Part 1: Data collection"
   ]
  },
  {
   "cell_type": "markdown",
   "metadata": {},
   "source": [
    "First, we will fetch the ODS data the top 1000 US cities based on population data."
   ]
  },
  {
   "cell_type": "code",
   "execution_count": 2,
   "metadata": {},
   "outputs": [
    {
     "data": {
      "text/html": [
       "<div>\n",
       "<style scoped>\n",
       "    .dataframe tbody tr th:only-of-type {\n",
       "        vertical-align: middle;\n",
       "    }\n",
       "\n",
       "    .dataframe tbody tr th {\n",
       "        vertical-align: top;\n",
       "    }\n",
       "\n",
       "    .dataframe thead th {\n",
       "        text-align: right;\n",
       "    }\n",
       "</style>\n",
       "<table border=\"1\" class=\"dataframe\">\n",
       "  <thead>\n",
       "    <tr style=\"text-align: right;\">\n",
       "      <th></th>\n",
       "      <th>City</th>\n",
       "      <th>State</th>\n",
       "      <th>Growth From 2000 to 2013</th>\n",
       "      <th>Population</th>\n",
       "      <th>Coordinates</th>\n",
       "    </tr>\n",
       "    <tr>\n",
       "      <th>Rank</th>\n",
       "      <th></th>\n",
       "      <th></th>\n",
       "      <th></th>\n",
       "      <th></th>\n",
       "      <th></th>\n",
       "    </tr>\n",
       "  </thead>\n",
       "  <tbody>\n",
       "    <tr>\n",
       "      <th>1</th>\n",
       "      <td>New York</td>\n",
       "      <td>New York</td>\n",
       "      <td>4.8</td>\n",
       "      <td>8405837</td>\n",
       "      <td>40.7127837,-74.0059413</td>\n",
       "    </tr>\n",
       "    <tr>\n",
       "      <th>2</th>\n",
       "      <td>Los Angeles</td>\n",
       "      <td>California</td>\n",
       "      <td>4.8</td>\n",
       "      <td>3884307</td>\n",
       "      <td>34.0522342,-118.2436849</td>\n",
       "    </tr>\n",
       "    <tr>\n",
       "      <th>3</th>\n",
       "      <td>Chicago</td>\n",
       "      <td>Illinois</td>\n",
       "      <td>-6.1</td>\n",
       "      <td>2718782</td>\n",
       "      <td>41.8781136,-87.6297982</td>\n",
       "    </tr>\n",
       "    <tr>\n",
       "      <th>4</th>\n",
       "      <td>Houston</td>\n",
       "      <td>Texas</td>\n",
       "      <td>11.0</td>\n",
       "      <td>2195914</td>\n",
       "      <td>29.7604267,-95.3698028</td>\n",
       "    </tr>\n",
       "    <tr>\n",
       "      <th>5</th>\n",
       "      <td>Philadelphia</td>\n",
       "      <td>Pennsylvania</td>\n",
       "      <td>2.6</td>\n",
       "      <td>1553165</td>\n",
       "      <td>39.9525839,-75.1652215</td>\n",
       "    </tr>\n",
       "  </tbody>\n",
       "</table>\n",
       "</div>"
      ],
      "text/plain": [
       "              City         State  Growth From 2000 to 2013  Population  \\\n",
       "Rank                                                                     \n",
       "1         New York      New York                       4.8     8405837   \n",
       "2      Los Angeles    California                       4.8     3884307   \n",
       "3          Chicago      Illinois                      -6.1     2718782   \n",
       "4          Houston         Texas                      11.0     2195914   \n",
       "5     Philadelphia  Pennsylvania                       2.6     1553165   \n",
       "\n",
       "                  Coordinates  \n",
       "Rank                           \n",
       "1      40.7127837,-74.0059413  \n",
       "2     34.0522342,-118.2436849  \n",
       "3      41.8781136,-87.6297982  \n",
       "4      29.7604267,-95.3698028  \n",
       "5      39.9525839,-75.1652215  "
      ]
     },
     "execution_count": 2,
     "metadata": {},
     "output_type": "execute_result"
    }
   ],
   "source": [
    "df = pd.read_csv('https://data.opendatasoft.com/explore/dataset/1000-largest-us-cities-by-population-with-geographic-coordinates@public/download/?format=csv&timezone=Europe/Berlin&use_labels_for_header=true', \n",
    "                 sep=';', index_col='Rank').sort_index()\n",
    "df.head()"
   ]
  },
  {
   "cell_type": "markdown",
   "metadata": {},
   "source": [
    "Now let's split the Coordinates column in seperate Latitide and Longitude columns."
   ]
  },
  {
   "cell_type": "code",
   "execution_count": 3,
   "metadata": {},
   "outputs": [
    {
     "data": {
      "text/html": [
       "<div>\n",
       "<style scoped>\n",
       "    .dataframe tbody tr th:only-of-type {\n",
       "        vertical-align: middle;\n",
       "    }\n",
       "\n",
       "    .dataframe tbody tr th {\n",
       "        vertical-align: top;\n",
       "    }\n",
       "\n",
       "    .dataframe thead th {\n",
       "        text-align: right;\n",
       "    }\n",
       "</style>\n",
       "<table border=\"1\" class=\"dataframe\">\n",
       "  <thead>\n",
       "    <tr style=\"text-align: right;\">\n",
       "      <th></th>\n",
       "      <th>City</th>\n",
       "      <th>State</th>\n",
       "      <th>Growth From 2000 to 2013</th>\n",
       "      <th>Population</th>\n",
       "      <th>Latitude</th>\n",
       "      <th>Longitude</th>\n",
       "    </tr>\n",
       "    <tr>\n",
       "      <th>Rank</th>\n",
       "      <th></th>\n",
       "      <th></th>\n",
       "      <th></th>\n",
       "      <th></th>\n",
       "      <th></th>\n",
       "      <th></th>\n",
       "    </tr>\n",
       "  </thead>\n",
       "  <tbody>\n",
       "    <tr>\n",
       "      <th>1</th>\n",
       "      <td>New York</td>\n",
       "      <td>New York</td>\n",
       "      <td>4.8</td>\n",
       "      <td>8405837</td>\n",
       "      <td>40.7127837</td>\n",
       "      <td>-74.0059413</td>\n",
       "    </tr>\n",
       "    <tr>\n",
       "      <th>2</th>\n",
       "      <td>Los Angeles</td>\n",
       "      <td>California</td>\n",
       "      <td>4.8</td>\n",
       "      <td>3884307</td>\n",
       "      <td>34.0522342</td>\n",
       "      <td>-118.2436849</td>\n",
       "    </tr>\n",
       "    <tr>\n",
       "      <th>3</th>\n",
       "      <td>Chicago</td>\n",
       "      <td>Illinois</td>\n",
       "      <td>-6.1</td>\n",
       "      <td>2718782</td>\n",
       "      <td>41.8781136</td>\n",
       "      <td>-87.6297982</td>\n",
       "    </tr>\n",
       "    <tr>\n",
       "      <th>4</th>\n",
       "      <td>Houston</td>\n",
       "      <td>Texas</td>\n",
       "      <td>11.0</td>\n",
       "      <td>2195914</td>\n",
       "      <td>29.7604267</td>\n",
       "      <td>-95.3698028</td>\n",
       "    </tr>\n",
       "    <tr>\n",
       "      <th>5</th>\n",
       "      <td>Philadelphia</td>\n",
       "      <td>Pennsylvania</td>\n",
       "      <td>2.6</td>\n",
       "      <td>1553165</td>\n",
       "      <td>39.9525839</td>\n",
       "      <td>-75.1652215</td>\n",
       "    </tr>\n",
       "  </tbody>\n",
       "</table>\n",
       "</div>"
      ],
      "text/plain": [
       "              City         State  Growth From 2000 to 2013  Population  \\\n",
       "Rank                                                                     \n",
       "1         New York      New York                       4.8     8405837   \n",
       "2      Los Angeles    California                       4.8     3884307   \n",
       "3          Chicago      Illinois                      -6.1     2718782   \n",
       "4          Houston         Texas                      11.0     2195914   \n",
       "5     Philadelphia  Pennsylvania                       2.6     1553165   \n",
       "\n",
       "        Latitude     Longitude  \n",
       "Rank                            \n",
       "1     40.7127837   -74.0059413  \n",
       "2     34.0522342  -118.2436849  \n",
       "3     41.8781136   -87.6297982  \n",
       "4     29.7604267   -95.3698028  \n",
       "5     39.9525839   -75.1652215  "
      ]
     },
     "execution_count": 3,
     "metadata": {},
     "output_type": "execute_result"
    }
   ],
   "source": [
    "df['Latitude'], df['Longitude'] = df['Coordinates'].str.split(\",\").str\n",
    "df.drop('Coordinates', axis=1, inplace=True)\n",
    "df = df.head(100) # We are only interested in the top 100 cities, sorted on population\n",
    "df.head()"
   ]
  },
  {
   "cell_type": "markdown",
   "metadata": {},
   "source": [
    "### Fetching elevation data"
   ]
  },
  {
   "cell_type": "markdown",
   "metadata": {},
   "source": [
    "The next step is to aquire elevation details for these cities, we will use the Google Maps Elevation API to fetch this data based on the center coordinates of these cities. Let's start off with defining the function that we will use to call the Elevation API."
   ]
  },
  {
   "cell_type": "code",
   "execution_count": 4,
   "metadata": {},
   "outputs": [],
   "source": [
    "def elevation(lat, lng):\n",
    "    apikey = \"yourAPIKEYhere\" # Insert your API key here\n",
    "    url = \"https://maps.googleapis.com/maps/api/elevation/json\"\n",
    "    request = urllib.request.urlopen(url+\"?locations=\"+str(lat)+\",\"+str(lng)+\"&key=\"+apikey)\n",
    "    try:\n",
    "        results = json.load(request).get('results')\n",
    "        while 0 < len(results):\n",
    "            elevation = results[0].get('elevation')\n",
    "            return elevation\n",
    "        else:\n",
    "            print('HTTP GET Request failed, try again')\n",
    "    except ValueError as e:\n",
    "        print('JSON decode failed: '+str(request))"
   ]
  },
  {
   "cell_type": "markdown",
   "metadata": {},
   "source": [
    "Now let's use our data to fetch the elevation in meters for each coordinate vector."
   ]
  },
  {
   "cell_type": "code",
   "execution_count": 5,
   "metadata": {},
   "outputs": [
    {
     "data": {
      "text/html": [
       "<div>\n",
       "<style scoped>\n",
       "    .dataframe tbody tr th:only-of-type {\n",
       "        vertical-align: middle;\n",
       "    }\n",
       "\n",
       "    .dataframe tbody tr th {\n",
       "        vertical-align: top;\n",
       "    }\n",
       "\n",
       "    .dataframe thead th {\n",
       "        text-align: right;\n",
       "    }\n",
       "</style>\n",
       "<table border=\"1\" class=\"dataframe\">\n",
       "  <thead>\n",
       "    <tr style=\"text-align: right;\">\n",
       "      <th></th>\n",
       "      <th>City</th>\n",
       "      <th>State</th>\n",
       "      <th>Growth From 2000 to 2013</th>\n",
       "      <th>Population</th>\n",
       "      <th>Latitude</th>\n",
       "      <th>Longitude</th>\n",
       "      <th>elevation</th>\n",
       "    </tr>\n",
       "    <tr>\n",
       "      <th>Rank</th>\n",
       "      <th></th>\n",
       "      <th></th>\n",
       "      <th></th>\n",
       "      <th></th>\n",
       "      <th></th>\n",
       "      <th></th>\n",
       "      <th></th>\n",
       "    </tr>\n",
       "  </thead>\n",
       "  <tbody>\n",
       "    <tr>\n",
       "      <th>1</th>\n",
       "      <td>New York</td>\n",
       "      <td>New York</td>\n",
       "      <td>4.8</td>\n",
       "      <td>8405837</td>\n",
       "      <td>40.7127837</td>\n",
       "      <td>-74.0059413</td>\n",
       "      <td>13.347621</td>\n",
       "    </tr>\n",
       "    <tr>\n",
       "      <th>2</th>\n",
       "      <td>Los Angeles</td>\n",
       "      <td>California</td>\n",
       "      <td>4.8</td>\n",
       "      <td>3884307</td>\n",
       "      <td>34.0522342</td>\n",
       "      <td>-118.2436849</td>\n",
       "      <td>86.847092</td>\n",
       "    </tr>\n",
       "    <tr>\n",
       "      <th>3</th>\n",
       "      <td>Chicago</td>\n",
       "      <td>Illinois</td>\n",
       "      <td>-6.1</td>\n",
       "      <td>2718782</td>\n",
       "      <td>41.8781136</td>\n",
       "      <td>-87.6297982</td>\n",
       "      <td>183.000000</td>\n",
       "    </tr>\n",
       "    <tr>\n",
       "      <th>4</th>\n",
       "      <td>Houston</td>\n",
       "      <td>Texas</td>\n",
       "      <td>11.0</td>\n",
       "      <td>2195914</td>\n",
       "      <td>29.7604267</td>\n",
       "      <td>-95.3698028</td>\n",
       "      <td>14.566981</td>\n",
       "    </tr>\n",
       "    <tr>\n",
       "      <th>5</th>\n",
       "      <td>Philadelphia</td>\n",
       "      <td>Pennsylvania</td>\n",
       "      <td>2.6</td>\n",
       "      <td>1553165</td>\n",
       "      <td>39.9525839</td>\n",
       "      <td>-75.1652215</td>\n",
       "      <td>14.326541</td>\n",
       "    </tr>\n",
       "  </tbody>\n",
       "</table>\n",
       "</div>"
      ],
      "text/plain": [
       "              City         State  Growth From 2000 to 2013  Population  \\\n",
       "Rank                                                                     \n",
       "1         New York      New York                       4.8     8405837   \n",
       "2      Los Angeles    California                       4.8     3884307   \n",
       "3          Chicago      Illinois                      -6.1     2718782   \n",
       "4          Houston         Texas                      11.0     2195914   \n",
       "5     Philadelphia  Pennsylvania                       2.6     1553165   \n",
       "\n",
       "        Latitude     Longitude   elevation  \n",
       "Rank                                        \n",
       "1     40.7127837   -74.0059413   13.347621  \n",
       "2     34.0522342  -118.2436849   86.847092  \n",
       "3     41.8781136   -87.6297982  183.000000  \n",
       "4     29.7604267   -95.3698028   14.566981  \n",
       "5     39.9525839   -75.1652215   14.326541  "
      ]
     },
     "execution_count": 5,
     "metadata": {},
     "output_type": "execute_result"
    }
   ],
   "source": [
    "df['elevation'] = df.apply(lambda row: elevation(row['Latitude'], row['Longitude']), axis=1)\n",
    "df.head()"
   ]
  },
  {
   "cell_type": "markdown",
   "metadata": {},
   "source": [
    "### Fetching climate data"
   ]
  },
  {
   "cell_type": "markdown",
   "metadata": {},
   "source": [
    "Next up, we will include data for the average annual temperature and precipitation per city. We will be using NOAA's US 1981-2010 Climate Normals open dataset. First, we will gather all available weather stations in the dataset."
   ]
  },
  {
   "cell_type": "code",
   "execution_count": 6,
   "metadata": {},
   "outputs": [
    {
     "data": {
      "text/html": [
       "<div>\n",
       "<style scoped>\n",
       "    .dataframe tbody tr th:only-of-type {\n",
       "        vertical-align: middle;\n",
       "    }\n",
       "\n",
       "    .dataframe tbody tr th {\n",
       "        vertical-align: top;\n",
       "    }\n",
       "\n",
       "    .dataframe thead th {\n",
       "        text-align: right;\n",
       "    }\n",
       "</style>\n",
       "<table border=\"1\" class=\"dataframe\">\n",
       "  <thead>\n",
       "    <tr style=\"text-align: right;\">\n",
       "      <th></th>\n",
       "      <th>ID</th>\n",
       "      <th>Latitude</th>\n",
       "      <th>Longitude</th>\n",
       "      <th>Elevation</th>\n",
       "      <th>State</th>\n",
       "      <th>Name</th>\n",
       "      <th>Gsnflag</th>\n",
       "      <th>Hcnflag</th>\n",
       "      <th>Wmoid</th>\n",
       "      <th>Method</th>\n",
       "    </tr>\n",
       "  </thead>\n",
       "  <tbody>\n",
       "    <tr>\n",
       "      <th>0</th>\n",
       "      <td>AQW00061705</td>\n",
       "      <td>-14.3306</td>\n",
       "      <td>-170.7136</td>\n",
       "      <td>3.7</td>\n",
       "      <td>AS</td>\n",
       "      <td>PAGO PAGO WSO AP</td>\n",
       "      <td>GSN</td>\n",
       "      <td>NaN</td>\n",
       "      <td>91765.0</td>\n",
       "      <td>TRADITIONAL</td>\n",
       "    </tr>\n",
       "    <tr>\n",
       "      <th>1</th>\n",
       "      <td>CAW00064757</td>\n",
       "      <td>44.2325</td>\n",
       "      <td>-79.7811</td>\n",
       "      <td>246.0</td>\n",
       "      <td>ON</td>\n",
       "      <td>EGBERT 1 W</td>\n",
       "      <td>NaN</td>\n",
       "      <td>NaN</td>\n",
       "      <td>NaN</td>\n",
       "      <td>PSEUDONORMALS</td>\n",
       "    </tr>\n",
       "    <tr>\n",
       "      <th>2</th>\n",
       "      <td>CQC00914080</td>\n",
       "      <td>15.2136</td>\n",
       "      <td>145.7497</td>\n",
       "      <td>252.1</td>\n",
       "      <td>MP</td>\n",
       "      <td>CAPITOL HILL 1</td>\n",
       "      <td>NaN</td>\n",
       "      <td>NaN</td>\n",
       "      <td>NaN</td>\n",
       "      <td>TRADITIONAL</td>\n",
       "    </tr>\n",
       "    <tr>\n",
       "      <th>3</th>\n",
       "      <td>CQC00914801</td>\n",
       "      <td>14.1717</td>\n",
       "      <td>145.2428</td>\n",
       "      <td>179.2</td>\n",
       "      <td>MP</td>\n",
       "      <td>ROTA AP</td>\n",
       "      <td>NaN</td>\n",
       "      <td>NaN</td>\n",
       "      <td>91221.0</td>\n",
       "      <td>TRADITIONAL</td>\n",
       "    </tr>\n",
       "    <tr>\n",
       "      <th>4</th>\n",
       "      <td>FMC00914395</td>\n",
       "      <td>5.3544</td>\n",
       "      <td>162.9533</td>\n",
       "      <td>2.1</td>\n",
       "      <td>FM</td>\n",
       "      <td>KOSRAE</td>\n",
       "      <td>NaN</td>\n",
       "      <td>NaN</td>\n",
       "      <td>91355.0</td>\n",
       "      <td>TRADITIONAL</td>\n",
       "    </tr>\n",
       "  </tbody>\n",
       "</table>\n",
       "</div>"
      ],
      "text/plain": [
       "            ID  Latitude  Longitude  Elevation State              Name  \\\n",
       "0  AQW00061705  -14.3306  -170.7136        3.7    AS  PAGO PAGO WSO AP   \n",
       "1  CAW00064757   44.2325   -79.7811      246.0    ON        EGBERT 1 W   \n",
       "2  CQC00914080   15.2136   145.7497      252.1    MP    CAPITOL HILL 1   \n",
       "3  CQC00914801   14.1717   145.2428      179.2    MP           ROTA AP   \n",
       "4  FMC00914395    5.3544   162.9533        2.1    FM            KOSRAE   \n",
       "\n",
       "  Gsnflag Hcnflag    Wmoid         Method  \n",
       "0     GSN     NaN  91765.0    TRADITIONAL  \n",
       "1     NaN     NaN      NaN  PSEUDONORMALS  \n",
       "2     NaN     NaN      NaN    TRADITIONAL  \n",
       "3     NaN     NaN  91221.0    TRADITIONAL  \n",
       "4     NaN     NaN  91355.0    TRADITIONAL  "
      ]
     },
     "execution_count": 6,
     "metadata": {},
     "output_type": "execute_result"
    }
   ],
   "source": [
    "stations = pd.read_fwf('https://www1.ncdc.noaa.gov/pub/data/normals/1981-2010/station-inventories/temp-inventory.txt', \n",
    "                 header=None)\n",
    "stations.columns = ['ID', 'Latitude', 'Longitude', 'Elevation', 'State', 'Name', 'Gsnflag', 'Hcnflag', 'Wmoid', 'Method']\n",
    "stations.head()"
   ]
  },
  {
   "cell_type": "markdown",
   "metadata": {},
   "source": [
    "Now, we will combine temperature and percipitation data for every weather station in the dataset."
   ]
  },
  {
   "cell_type": "code",
   "execution_count": 7,
   "metadata": {},
   "outputs": [],
   "source": [
    "# Fetch climate normal average annual temperature per weather station:\n",
    "ann_tavg = pd.read_fwf('https://www1.ncdc.noaa.gov/pub/data/normals/1981-2010/products/temperature/ann-tavg-normal.txt',\n",
    "                              header=None)\n",
    "ann_tavg.columns = ['ID', 'Temperature']\n",
    "# clean data and convert value to Celcius:\n",
    "ann_tavg.Temperature = ann_tavg.Temperature.map(lambda x: x[:-1]).apply(lambda x: (pd.to_numeric(x)/10 - 32) * 5/9)\n",
    "\n",
    "# Fetch climate normal average annual percipitation per weather station:\n",
    "ann_pcp = pd.read_fwf('https://www1.ncdc.noaa.gov/pub/data/normals/1981-2010/products/precipitation/ann-prcp-normal.txt',\n",
    "                     header=None)\n",
    "ann_pcp.columns = ['ID', 'Percipitation']\n",
    "# clean data and convert value to Millimeters:\n",
    "ann_pcp.Percipitation = ann_pcp.Percipitation.map(lambda x: x[:-1]).apply(lambda x: pd.to_numeric(x) * 0.254)"
   ]
  },
  {
   "cell_type": "markdown",
   "metadata": {},
   "source": [
    "Then, we will merge the Temperature and Percipitation datasets with the weather station inventory."
   ]
  },
  {
   "cell_type": "code",
   "execution_count": 8,
   "metadata": {},
   "outputs": [
    {
     "data": {
      "text/html": [
       "<div>\n",
       "<style scoped>\n",
       "    .dataframe tbody tr th:only-of-type {\n",
       "        vertical-align: middle;\n",
       "    }\n",
       "\n",
       "    .dataframe tbody tr th {\n",
       "        vertical-align: top;\n",
       "    }\n",
       "\n",
       "    .dataframe thead th {\n",
       "        text-align: right;\n",
       "    }\n",
       "</style>\n",
       "<table border=\"1\" class=\"dataframe\">\n",
       "  <thead>\n",
       "    <tr style=\"text-align: right;\">\n",
       "      <th></th>\n",
       "      <th>Latitude</th>\n",
       "      <th>Longitude</th>\n",
       "      <th>Elevation</th>\n",
       "      <th>Wmoid</th>\n",
       "      <th>Temperature</th>\n",
       "      <th>Percipitation</th>\n",
       "    </tr>\n",
       "  </thead>\n",
       "  <tbody>\n",
       "    <tr>\n",
       "      <th>count</th>\n",
       "      <td>7501.000000</td>\n",
       "      <td>7501.000000</td>\n",
       "      <td>7501.000000</td>\n",
       "      <td>453.000000</td>\n",
       "      <td>7501.000000</td>\n",
       "      <td>6969.000000</td>\n",
       "    </tr>\n",
       "    <tr>\n",
       "      <th>mean</th>\n",
       "      <td>39.299392</td>\n",
       "      <td>-97.050719</td>\n",
       "      <td>553.389401</td>\n",
       "      <td>73544.333333</td>\n",
       "      <td>11.773778</td>\n",
       "      <td>874.408321</td>\n",
       "    </tr>\n",
       "    <tr>\n",
       "      <th>std</th>\n",
       "      <td>6.887016</td>\n",
       "      <td>22.332157</td>\n",
       "      <td>605.790399</td>\n",
       "      <td>4595.338905</td>\n",
       "      <td>5.389976</td>\n",
       "      <td>486.971703</td>\n",
       "    </tr>\n",
       "    <tr>\n",
       "      <th>min</th>\n",
       "      <td>-14.330600</td>\n",
       "      <td>-176.650000</td>\n",
       "      <td>-59.100000</td>\n",
       "      <td>69014.000000</td>\n",
       "      <td>-11.388889</td>\n",
       "      <td>59.944000</td>\n",
       "    </tr>\n",
       "    <tr>\n",
       "      <th>25%</th>\n",
       "      <td>35.070000</td>\n",
       "      <td>-109.082800</td>\n",
       "      <td>136.600000</td>\n",
       "      <td>72288.000000</td>\n",
       "      <td>7.888889</td>\n",
       "      <td>456.438000</td>\n",
       "    </tr>\n",
       "    <tr>\n",
       "      <th>50%</th>\n",
       "      <td>39.470800</td>\n",
       "      <td>-95.626100</td>\n",
       "      <td>298.700000</td>\n",
       "      <td>72469.000000</td>\n",
       "      <td>11.055556</td>\n",
       "      <td>888.238000</td>\n",
       "    </tr>\n",
       "    <tr>\n",
       "      <th>75%</th>\n",
       "      <td>43.331100</td>\n",
       "      <td>-84.555300</td>\n",
       "      <td>794.000000</td>\n",
       "      <td>72654.000000</td>\n",
       "      <td>15.555556</td>\n",
       "      <td>1183.386000</td>\n",
       "    </tr>\n",
       "    <tr>\n",
       "      <th>max</th>\n",
       "      <td>71.283300</td>\n",
       "      <td>174.100000</td>\n",
       "      <td>3442.400000</td>\n",
       "      <td>91765.000000</td>\n",
       "      <td>28.222222</td>\n",
       "      <td>6096.508000</td>\n",
       "    </tr>\n",
       "  </tbody>\n",
       "</table>\n",
       "</div>"
      ],
      "text/plain": [
       "          Latitude    Longitude    Elevation         Wmoid  Temperature  \\\n",
       "count  7501.000000  7501.000000  7501.000000    453.000000  7501.000000   \n",
       "mean     39.299392   -97.050719   553.389401  73544.333333    11.773778   \n",
       "std       6.887016    22.332157   605.790399   4595.338905     5.389976   \n",
       "min     -14.330600  -176.650000   -59.100000  69014.000000   -11.388889   \n",
       "25%      35.070000  -109.082800   136.600000  72288.000000     7.888889   \n",
       "50%      39.470800   -95.626100   298.700000  72469.000000    11.055556   \n",
       "75%      43.331100   -84.555300   794.000000  72654.000000    15.555556   \n",
       "max      71.283300   174.100000  3442.400000  91765.000000    28.222222   \n",
       "\n",
       "       Percipitation  \n",
       "count    6969.000000  \n",
       "mean      874.408321  \n",
       "std       486.971703  \n",
       "min        59.944000  \n",
       "25%       456.438000  \n",
       "50%       888.238000  \n",
       "75%      1183.386000  \n",
       "max      6096.508000  "
      ]
     },
     "execution_count": 8,
     "metadata": {},
     "output_type": "execute_result"
    }
   ],
   "source": [
    "stations = pd.merge(stations, ann_tavg, how='left', on='ID')\n",
    "stations = pd.merge(stations, ann_pcp, how='left', on='ID')\n",
    "stations.describe()"
   ]
  },
  {
   "cell_type": "markdown",
   "metadata": {},
   "source": [
    "That seems to be working perfectly! Now, we can finally use all the acquired data to learn about our top US cities. We will setup a function that selects the weather stations within a 20 km radius of the city centers. Then, we will average the temperature and percipitation of these weather stations and summarize this in two feature columns."
   ]
  },
  {
   "cell_type": "code",
   "execution_count": 9,
   "metadata": {},
   "outputs": [
    {
     "data": {
      "text/html": [
       "<div>\n",
       "<style scoped>\n",
       "    .dataframe tbody tr th:only-of-type {\n",
       "        vertical-align: middle;\n",
       "    }\n",
       "\n",
       "    .dataframe tbody tr th {\n",
       "        vertical-align: top;\n",
       "    }\n",
       "\n",
       "    .dataframe thead th {\n",
       "        text-align: right;\n",
       "    }\n",
       "</style>\n",
       "<table border=\"1\" class=\"dataframe\">\n",
       "  <thead>\n",
       "    <tr style=\"text-align: right;\">\n",
       "      <th></th>\n",
       "      <th>City</th>\n",
       "      <th>State</th>\n",
       "      <th>Growth From 2000 to 2013</th>\n",
       "      <th>Population</th>\n",
       "      <th>Latitude</th>\n",
       "      <th>Longitude</th>\n",
       "      <th>elevation</th>\n",
       "      <th>Avg_temperature</th>\n",
       "      <th>Avg_percipitation</th>\n",
       "    </tr>\n",
       "    <tr>\n",
       "      <th>Rank</th>\n",
       "      <th></th>\n",
       "      <th></th>\n",
       "      <th></th>\n",
       "      <th></th>\n",
       "      <th></th>\n",
       "      <th></th>\n",
       "      <th></th>\n",
       "      <th></th>\n",
       "      <th></th>\n",
       "    </tr>\n",
       "  </thead>\n",
       "  <tbody>\n",
       "    <tr>\n",
       "      <th>1</th>\n",
       "      <td>New York</td>\n",
       "      <td>New York</td>\n",
       "      <td>4.8</td>\n",
       "      <td>8405837</td>\n",
       "      <td>40.712784</td>\n",
       "      <td>-74.005941</td>\n",
       "      <td>13.347621</td>\n",
       "      <td>12.793651</td>\n",
       "      <td>1208.0240</td>\n",
       "    </tr>\n",
       "    <tr>\n",
       "      <th>2</th>\n",
       "      <td>Los Angeles</td>\n",
       "      <td>California</td>\n",
       "      <td>4.8</td>\n",
       "      <td>3884307</td>\n",
       "      <td>34.052234</td>\n",
       "      <td>-118.243685</td>\n",
       "      <td>86.847092</td>\n",
       "      <td>18.061111</td>\n",
       "      <td>408.1272</td>\n",
       "    </tr>\n",
       "    <tr>\n",
       "      <th>3</th>\n",
       "      <td>Chicago</td>\n",
       "      <td>Illinois</td>\n",
       "      <td>-6.1</td>\n",
       "      <td>2718782</td>\n",
       "      <td>41.878114</td>\n",
       "      <td>-87.629798</td>\n",
       "      <td>183.000000</td>\n",
       "      <td>11.111111</td>\n",
       "      <td>978.5350</td>\n",
       "    </tr>\n",
       "    <tr>\n",
       "      <th>4</th>\n",
       "      <td>Houston</td>\n",
       "      <td>Texas</td>\n",
       "      <td>11.0</td>\n",
       "      <td>2195914</td>\n",
       "      <td>29.760427</td>\n",
       "      <td>-95.369803</td>\n",
       "      <td>14.566981</td>\n",
       "      <td>21.388889</td>\n",
       "      <td>1337.0560</td>\n",
       "    </tr>\n",
       "    <tr>\n",
       "      <th>5</th>\n",
       "      <td>Philadelphia</td>\n",
       "      <td>Pennsylvania</td>\n",
       "      <td>2.6</td>\n",
       "      <td>1553165</td>\n",
       "      <td>39.952584</td>\n",
       "      <td>-75.165222</td>\n",
       "      <td>14.326541</td>\n",
       "      <td>13.333333</td>\n",
       "      <td>1176.0835</td>\n",
       "    </tr>\n",
       "  </tbody>\n",
       "</table>\n",
       "</div>"
      ],
      "text/plain": [
       "              City         State  Growth From 2000 to 2013  Population  \\\n",
       "Rank                                                                     \n",
       "1         New York      New York                       4.8     8405837   \n",
       "2      Los Angeles    California                       4.8     3884307   \n",
       "3          Chicago      Illinois                      -6.1     2718782   \n",
       "4          Houston         Texas                      11.0     2195914   \n",
       "5     Philadelphia  Pennsylvania                       2.6     1553165   \n",
       "\n",
       "       Latitude   Longitude   elevation  Avg_temperature  Avg_percipitation  \n",
       "Rank                                                                         \n",
       "1     40.712784  -74.005941   13.347621        12.793651          1208.0240  \n",
       "2     34.052234 -118.243685   86.847092        18.061111           408.1272  \n",
       "3     41.878114  -87.629798  183.000000        11.111111           978.5350  \n",
       "4     29.760427  -95.369803   14.566981        21.388889          1337.0560  \n",
       "5     39.952584  -75.165222   14.326541        13.333333          1176.0835  "
      ]
     },
     "execution_count": 9,
     "metadata": {},
     "output_type": "execute_result"
    }
   ],
   "source": [
    "df[['Latitude', 'Longitude']] = df[['Latitude', 'Longitude']].apply(pd.to_numeric, errors='coerce')\n",
    "def climate(lat, lng):\n",
    "    stations['dist'] = stations.apply(lambda row: geopy.distance.distance([lat, lng], [row['Latitude'], row['Longitude']]).km, axis=1)\n",
    "    selection = stations[stations.dist <= 20]\n",
    "    avg_temp, avg_pcp = selection.Temperature.mean(), selection.Percipitation.mean()\n",
    "    return pd.Series([avg_temp, avg_pcp])\n",
    "\n",
    "df[['Avg_temperature','Avg_percipitation']] = df.apply(lambda row: climate(row['Latitude'], row['Longitude']), axis=1)\n",
    "df.head()"
   ]
  },
  {
   "cell_type": "markdown",
   "metadata": {},
   "source": [
    "### Fetching venue data"
   ]
  },
  {
   "cell_type": "markdown",
   "metadata": {},
   "source": [
    "Finally, we will use the Foursquare API to gather venue data for the top cities. Let's start off by connecting to the Foursquare API."
   ]
  },
  {
   "cell_type": "markdown",
   "metadata": {},
   "source": [
    "#### Define Foursquare Credentials and Version"
   ]
  },
  {
   "cell_type": "code",
   "execution_count": 10,
   "metadata": {},
   "outputs": [],
   "source": [
    "CLIENT_ID = 'yourIDhere' # your Foursquare ID\n",
    "CLIENT_SECRET = 'yourSECREThere' # your Foursquare Secret\n",
    "VERSION = '20191013' # Foursquare API version"
   ]
  },
  {
   "cell_type": "markdown",
   "metadata": {},
   "source": [
    "Now, let's create some functions that will call the Foursquare API and fetch the required data for each city."
   ]
  },
  {
   "cell_type": "code",
   "execution_count": 11,
   "metadata": {},
   "outputs": [],
   "source": [
    "LIMIT = 100 # According to the Foursquare docs, this is the maximum limit.\n",
    "radius = 5000 # Everything in a 5km radius from the center coordinates.\n",
    "\n",
    "# function that extracts the category of the venue\n",
    "def get_category_type(row):\n",
    "    try:\n",
    "        categories_list = row['categories']\n",
    "    except:\n",
    "        categories_list = row['venue.categories']\n",
    "        \n",
    "    if len(categories_list) == 0:\n",
    "        return None\n",
    "    else:\n",
    "        return categories_list[0]['name']"
   ]
  },
  {
   "cell_type": "code",
   "execution_count": 12,
   "metadata": {},
   "outputs": [],
   "source": [
    "# function that connects to the foursquare API and returns the results\n",
    "def fetch_venues(lat, lng):\n",
    "    url = 'https://api.foursquare.com/v2/venues/explore?client_id={}&client_secret={}&ll={},{}&v={}&radius={}&limit={}'.format(CLIENT_ID, CLIENT_SECRET, lat, lng, VERSION, radius, LIMIT)\n",
    "    results = requests.get(url).json()\n",
    "    qty = results['response']['totalResults'] # total amount of reported venues within range\n",
    "    \n",
    "    # now lets group the fetched venues by category and only keep the most popular top 3\n",
    "    venues = json_normalize(results['response']['groups'][0]['items']) # flatten JSON and put in pandas dataframe\n",
    "    venues = venues.loc[:, ['venue.categories']] # filter results and only keep categories\n",
    "    venues['venue.categories'] = venues.apply(get_category_type, axis=1) # filter the category for each row\n",
    "    \n",
    "    # keep only the top 3 venues\n",
    "    top3_venues = venues['venue.categories'].value_counts()[0:3]\n",
    "    \n",
    "    return pd.Series([qty, top3_venues.index.tolist()])"
   ]
  },
  {
   "cell_type": "markdown",
   "metadata": {},
   "source": [
    "And let's apply these functions to our dataframe."
   ]
  },
  {
   "cell_type": "code",
   "execution_count": 14,
   "metadata": {},
   "outputs": [
    {
     "data": {
      "text/html": [
       "<div>\n",
       "<style scoped>\n",
       "    .dataframe tbody tr th:only-of-type {\n",
       "        vertical-align: middle;\n",
       "    }\n",
       "\n",
       "    .dataframe tbody tr th {\n",
       "        vertical-align: top;\n",
       "    }\n",
       "\n",
       "    .dataframe thead th {\n",
       "        text-align: right;\n",
       "    }\n",
       "</style>\n",
       "<table border=\"1\" class=\"dataframe\">\n",
       "  <thead>\n",
       "    <tr style=\"text-align: right;\">\n",
       "      <th></th>\n",
       "      <th>City</th>\n",
       "      <th>State</th>\n",
       "      <th>Growth From 2000 to 2013</th>\n",
       "      <th>Population</th>\n",
       "      <th>Latitude</th>\n",
       "      <th>Longitude</th>\n",
       "      <th>elevation</th>\n",
       "      <th>Avg_temperature</th>\n",
       "      <th>Avg_percipitation</th>\n",
       "      <th>Count of Venues</th>\n",
       "      <th>Top 3 categories</th>\n",
       "    </tr>\n",
       "    <tr>\n",
       "      <th>Rank</th>\n",
       "      <th></th>\n",
       "      <th></th>\n",
       "      <th></th>\n",
       "      <th></th>\n",
       "      <th></th>\n",
       "      <th></th>\n",
       "      <th></th>\n",
       "      <th></th>\n",
       "      <th></th>\n",
       "      <th></th>\n",
       "      <th></th>\n",
       "    </tr>\n",
       "  </thead>\n",
       "  <tbody>\n",
       "    <tr>\n",
       "      <th>1</th>\n",
       "      <td>New York</td>\n",
       "      <td>New York</td>\n",
       "      <td>4.8</td>\n",
       "      <td>8405837</td>\n",
       "      <td>40.712784</td>\n",
       "      <td>-74.005941</td>\n",
       "      <td>13.347621</td>\n",
       "      <td>12.793651</td>\n",
       "      <td>1208.0240</td>\n",
       "      <td>237</td>\n",
       "      <td>[Park, Italian Restaurant, Hotel]</td>\n",
       "    </tr>\n",
       "    <tr>\n",
       "      <th>2</th>\n",
       "      <td>Los Angeles</td>\n",
       "      <td>California</td>\n",
       "      <td>4.8</td>\n",
       "      <td>3884307</td>\n",
       "      <td>34.052234</td>\n",
       "      <td>-118.243685</td>\n",
       "      <td>86.847092</td>\n",
       "      <td>18.061111</td>\n",
       "      <td>408.1272</td>\n",
       "      <td>236</td>\n",
       "      <td>[Coffee Shop, Ice Cream Shop, Art Gallery]</td>\n",
       "    </tr>\n",
       "    <tr>\n",
       "      <th>3</th>\n",
       "      <td>Chicago</td>\n",
       "      <td>Illinois</td>\n",
       "      <td>-6.1</td>\n",
       "      <td>2718782</td>\n",
       "      <td>41.878114</td>\n",
       "      <td>-87.629798</td>\n",
       "      <td>183.000000</td>\n",
       "      <td>11.111111</td>\n",
       "      <td>978.5350</td>\n",
       "      <td>237</td>\n",
       "      <td>[Hotel, Theater, Park]</td>\n",
       "    </tr>\n",
       "    <tr>\n",
       "      <th>4</th>\n",
       "      <td>Houston</td>\n",
       "      <td>Texas</td>\n",
       "      <td>11.0</td>\n",
       "      <td>2195914</td>\n",
       "      <td>29.760427</td>\n",
       "      <td>-95.369803</td>\n",
       "      <td>14.566981</td>\n",
       "      <td>21.388889</td>\n",
       "      <td>1337.0560</td>\n",
       "      <td>242</td>\n",
       "      <td>[Hotel, Brewery, Cocktail Bar]</td>\n",
       "    </tr>\n",
       "    <tr>\n",
       "      <th>5</th>\n",
       "      <td>Philadelphia</td>\n",
       "      <td>Pennsylvania</td>\n",
       "      <td>2.6</td>\n",
       "      <td>1553165</td>\n",
       "      <td>39.952584</td>\n",
       "      <td>-75.165222</td>\n",
       "      <td>14.326541</td>\n",
       "      <td>13.333333</td>\n",
       "      <td>1176.0835</td>\n",
       "      <td>238</td>\n",
       "      <td>[Coffee Shop, Pizza Place, Vegetarian / Vegan ...</td>\n",
       "    </tr>\n",
       "  </tbody>\n",
       "</table>\n",
       "</div>"
      ],
      "text/plain": [
       "              City         State  Growth From 2000 to 2013  Population  \\\n",
       "Rank                                                                     \n",
       "1         New York      New York                       4.8     8405837   \n",
       "2      Los Angeles    California                       4.8     3884307   \n",
       "3          Chicago      Illinois                      -6.1     2718782   \n",
       "4          Houston         Texas                      11.0     2195914   \n",
       "5     Philadelphia  Pennsylvania                       2.6     1553165   \n",
       "\n",
       "       Latitude   Longitude   elevation  Avg_temperature  Avg_percipitation  \\\n",
       "Rank                                                                          \n",
       "1     40.712784  -74.005941   13.347621        12.793651          1208.0240   \n",
       "2     34.052234 -118.243685   86.847092        18.061111           408.1272   \n",
       "3     41.878114  -87.629798  183.000000        11.111111           978.5350   \n",
       "4     29.760427  -95.369803   14.566981        21.388889          1337.0560   \n",
       "5     39.952584  -75.165222   14.326541        13.333333          1176.0835   \n",
       "\n",
       "      Count of Venues                                   Top 3 categories  \n",
       "Rank                                                                      \n",
       "1                 237                  [Park, Italian Restaurant, Hotel]  \n",
       "2                 236         [Coffee Shop, Ice Cream Shop, Art Gallery]  \n",
       "3                 237                             [Hotel, Theater, Park]  \n",
       "4                 242                     [Hotel, Brewery, Cocktail Bar]  \n",
       "5                 238  [Coffee Shop, Pizza Place, Vegetarian / Vegan ...  "
      ]
     },
     "execution_count": 14,
     "metadata": {},
     "output_type": "execute_result"
    }
   ],
   "source": [
    "df[['Count of Venues','Top 3 categories']] = df.apply(lambda row: fetch_venues(row['Latitude'], row['Longitude']), axis=1)\n",
    "df.head()"
   ]
  },
  {
   "cell_type": "markdown",
   "metadata": {},
   "source": [
    "# Part 2: Data pre-processing"
   ]
  },
  {
   "cell_type": "markdown",
   "metadata": {},
   "source": [
    "Now it's time to prepare the acquired data so our model will be able to process it. First of all we notice that the top 3 venue categories consist of a list with string formatting, which our model will not be able to process. Therefore, we will start off by cleaning this column by converting all text to lowercase characters and then trimming the spaces inbetween words.\n",
    "\n",
    "Next, we will use the stopwords dataset from the nltk library to remove any possible stop words. We will then apply the resulting cleaned string to our dataframe."
   ]
  },
  {
   "cell_type": "code",
   "execution_count": 15,
   "metadata": {},
   "outputs": [],
   "source": [
    "def clean(cat):\n",
    "    cat = [str.lower(i.replace(\" \", \"\")) for i in cat]\n",
    "    cat_keywords = [word for word in cat if word not in stopwords.words('english')]\n",
    "    merged_cat = \" \".join(cat_keywords)\n",
    "    return merged_cat"
   ]
  },
  {
   "cell_type": "code",
   "execution_count": 18,
   "metadata": {},
   "outputs": [
    {
     "data": {
      "text/html": [
       "<div>\n",
       "<style scoped>\n",
       "    .dataframe tbody tr th:only-of-type {\n",
       "        vertical-align: middle;\n",
       "    }\n",
       "\n",
       "    .dataframe tbody tr th {\n",
       "        vertical-align: top;\n",
       "    }\n",
       "\n",
       "    .dataframe thead th {\n",
       "        text-align: right;\n",
       "    }\n",
       "</style>\n",
       "<table border=\"1\" class=\"dataframe\">\n",
       "  <thead>\n",
       "    <tr style=\"text-align: right;\">\n",
       "      <th></th>\n",
       "      <th>City</th>\n",
       "      <th>State</th>\n",
       "      <th>Growth From 2000 to 2013</th>\n",
       "      <th>Population</th>\n",
       "      <th>Latitude</th>\n",
       "      <th>Longitude</th>\n",
       "      <th>elevation</th>\n",
       "      <th>Avg_temperature</th>\n",
       "      <th>Avg_percipitation</th>\n",
       "      <th>Count of Venues</th>\n",
       "      <th>Top 3 categories</th>\n",
       "      <th>BagOfWords</th>\n",
       "    </tr>\n",
       "    <tr>\n",
       "      <th>Rank</th>\n",
       "      <th></th>\n",
       "      <th></th>\n",
       "      <th></th>\n",
       "      <th></th>\n",
       "      <th></th>\n",
       "      <th></th>\n",
       "      <th></th>\n",
       "      <th></th>\n",
       "      <th></th>\n",
       "      <th></th>\n",
       "      <th></th>\n",
       "      <th></th>\n",
       "    </tr>\n",
       "  </thead>\n",
       "  <tbody>\n",
       "    <tr>\n",
       "      <th>1</th>\n",
       "      <td>New York</td>\n",
       "      <td>New York</td>\n",
       "      <td>4.8</td>\n",
       "      <td>8405837</td>\n",
       "      <td>40.712784</td>\n",
       "      <td>-74.005941</td>\n",
       "      <td>13.347621</td>\n",
       "      <td>12.793651</td>\n",
       "      <td>1208.0240</td>\n",
       "      <td>237</td>\n",
       "      <td>[Park, Italian Restaurant, Hotel]</td>\n",
       "      <td>park italianrestaurant hotel</td>\n",
       "    </tr>\n",
       "    <tr>\n",
       "      <th>2</th>\n",
       "      <td>Los Angeles</td>\n",
       "      <td>California</td>\n",
       "      <td>4.8</td>\n",
       "      <td>3884307</td>\n",
       "      <td>34.052234</td>\n",
       "      <td>-118.243685</td>\n",
       "      <td>86.847092</td>\n",
       "      <td>18.061111</td>\n",
       "      <td>408.1272</td>\n",
       "      <td>236</td>\n",
       "      <td>[Coffee Shop, Ice Cream Shop, Art Gallery]</td>\n",
       "      <td>coffeeshop icecreamshop artgallery</td>\n",
       "    </tr>\n",
       "    <tr>\n",
       "      <th>3</th>\n",
       "      <td>Chicago</td>\n",
       "      <td>Illinois</td>\n",
       "      <td>-6.1</td>\n",
       "      <td>2718782</td>\n",
       "      <td>41.878114</td>\n",
       "      <td>-87.629798</td>\n",
       "      <td>183.000000</td>\n",
       "      <td>11.111111</td>\n",
       "      <td>978.5350</td>\n",
       "      <td>237</td>\n",
       "      <td>[Hotel, Theater, Park]</td>\n",
       "      <td>hotel theater park</td>\n",
       "    </tr>\n",
       "    <tr>\n",
       "      <th>4</th>\n",
       "      <td>Houston</td>\n",
       "      <td>Texas</td>\n",
       "      <td>11.0</td>\n",
       "      <td>2195914</td>\n",
       "      <td>29.760427</td>\n",
       "      <td>-95.369803</td>\n",
       "      <td>14.566981</td>\n",
       "      <td>21.388889</td>\n",
       "      <td>1337.0560</td>\n",
       "      <td>242</td>\n",
       "      <td>[Hotel, Brewery, Cocktail Bar]</td>\n",
       "      <td>hotel brewery cocktailbar</td>\n",
       "    </tr>\n",
       "    <tr>\n",
       "      <th>5</th>\n",
       "      <td>Philadelphia</td>\n",
       "      <td>Pennsylvania</td>\n",
       "      <td>2.6</td>\n",
       "      <td>1553165</td>\n",
       "      <td>39.952584</td>\n",
       "      <td>-75.165222</td>\n",
       "      <td>14.326541</td>\n",
       "      <td>13.333333</td>\n",
       "      <td>1176.0835</td>\n",
       "      <td>238</td>\n",
       "      <td>[Coffee Shop, Pizza Place, Vegetarian / Vegan ...</td>\n",
       "      <td>coffeeshop pizzaplace vegetarian/veganrestaurant</td>\n",
       "    </tr>\n",
       "  </tbody>\n",
       "</table>\n",
       "</div>"
      ],
      "text/plain": [
       "              City         State  Growth From 2000 to 2013  Population  \\\n",
       "Rank                                                                     \n",
       "1         New York      New York                       4.8     8405837   \n",
       "2      Los Angeles    California                       4.8     3884307   \n",
       "3          Chicago      Illinois                      -6.1     2718782   \n",
       "4          Houston         Texas                      11.0     2195914   \n",
       "5     Philadelphia  Pennsylvania                       2.6     1553165   \n",
       "\n",
       "       Latitude   Longitude   elevation  Avg_temperature  Avg_percipitation  \\\n",
       "Rank                                                                          \n",
       "1     40.712784  -74.005941   13.347621        12.793651          1208.0240   \n",
       "2     34.052234 -118.243685   86.847092        18.061111           408.1272   \n",
       "3     41.878114  -87.629798  183.000000        11.111111           978.5350   \n",
       "4     29.760427  -95.369803   14.566981        21.388889          1337.0560   \n",
       "5     39.952584  -75.165222   14.326541        13.333333          1176.0835   \n",
       "\n",
       "      Count of Venues                                   Top 3 categories  \\\n",
       "Rank                                                                       \n",
       "1                 237                  [Park, Italian Restaurant, Hotel]   \n",
       "2                 236         [Coffee Shop, Ice Cream Shop, Art Gallery]   \n",
       "3                 237                             [Hotel, Theater, Park]   \n",
       "4                 242                     [Hotel, Brewery, Cocktail Bar]   \n",
       "5                 238  [Coffee Shop, Pizza Place, Vegetarian / Vegan ...   \n",
       "\n",
       "                                            BagOfWords  \n",
       "Rank                                                    \n",
       "1                         park italianrestaurant hotel  \n",
       "2                   coffeeshop icecreamshop artgallery  \n",
       "3                                   hotel theater park  \n",
       "4                            hotel brewery cocktailbar  \n",
       "5     coffeeshop pizzaplace vegetarian/veganrestaurant  "
      ]
     },
     "execution_count": 18,
     "metadata": {},
     "output_type": "execute_result"
    }
   ],
   "source": [
    "df['BagOfWords'] = df.apply(lambda row: clean(row['Top 3 categories']), axis=1)\n",
    "df.head()"
   ]
  },
  {
   "cell_type": "markdown",
   "metadata": {},
   "source": [
    "Now let's check the data types to ensure correct data handling."
   ]
  },
  {
   "cell_type": "code",
   "execution_count": 19,
   "metadata": {},
   "outputs": [
    {
     "data": {
      "text/plain": [
       "City                         object\n",
       "State                        object\n",
       "Growth From 2000 to 2013    float64\n",
       "Population                    int64\n",
       "Latitude                    float64\n",
       "Longitude                   float64\n",
       "elevation                   float64\n",
       "Avg_temperature             float64\n",
       "Avg_percipitation           float64\n",
       "Count of Venues               int64\n",
       "Top 3 categories             object\n",
       "BagOfWords                   object\n",
       "dtype: object"
      ]
     },
     "execution_count": 19,
     "metadata": {},
     "output_type": "execute_result"
    }
   ],
   "source": [
    "df.dtypes"
   ]
  },
  {
   "cell_type": "code",
   "execution_count": 20,
   "metadata": {},
   "outputs": [
    {
     "data": {
      "text/html": [
       "<div>\n",
       "<style scoped>\n",
       "    .dataframe tbody tr th:only-of-type {\n",
       "        vertical-align: middle;\n",
       "    }\n",
       "\n",
       "    .dataframe tbody tr th {\n",
       "        vertical-align: top;\n",
       "    }\n",
       "\n",
       "    .dataframe thead th {\n",
       "        text-align: right;\n",
       "    }\n",
       "</style>\n",
       "<table border=\"1\" class=\"dataframe\">\n",
       "  <thead>\n",
       "    <tr style=\"text-align: right;\">\n",
       "      <th></th>\n",
       "      <th>Growth From 2000 to 2013</th>\n",
       "      <th>Population</th>\n",
       "      <th>Latitude</th>\n",
       "      <th>Longitude</th>\n",
       "      <th>elevation</th>\n",
       "      <th>Avg_temperature</th>\n",
       "      <th>Avg_percipitation</th>\n",
       "      <th>Count of Venues</th>\n",
       "    </tr>\n",
       "  </thead>\n",
       "  <tbody>\n",
       "    <tr>\n",
       "      <th>count</th>\n",
       "      <td>100.000000</td>\n",
       "      <td>1.000000e+02</td>\n",
       "      <td>100.000000</td>\n",
       "      <td>100.000000</td>\n",
       "      <td>100.000000</td>\n",
       "      <td>100.000000</td>\n",
       "      <td>100.000000</td>\n",
       "      <td>100.000000</td>\n",
       "    </tr>\n",
       "    <tr>\n",
       "      <th>mean</th>\n",
       "      <td>14.213000</td>\n",
       "      <td>6.199111e+05</td>\n",
       "      <td>36.357787</td>\n",
       "      <td>-98.386528</td>\n",
       "      <td>256.796582</td>\n",
       "      <td>15.904044</td>\n",
       "      <td>817.740830</td>\n",
       "      <td>219.550000</td>\n",
       "    </tr>\n",
       "    <tr>\n",
       "      <th>std</th>\n",
       "      <td>19.079359</td>\n",
       "      <td>9.465627e+05</td>\n",
       "      <td>5.409962</td>\n",
       "      <td>17.693713</td>\n",
       "      <td>375.614880</td>\n",
       "      <td>4.658078</td>\n",
       "      <td>406.472148</td>\n",
       "      <td>32.417533</td>\n",
       "    </tr>\n",
       "    <tr>\n",
       "      <th>min</th>\n",
       "      <td>-27.100000</td>\n",
       "      <td>2.137080e+05</td>\n",
       "      <td>21.306944</td>\n",
       "      <td>-157.858333</td>\n",
       "      <td>0.521789</td>\n",
       "      <td>2.372222</td>\n",
       "      <td>122.936000</td>\n",
       "      <td>88.000000</td>\n",
       "    </tr>\n",
       "    <tr>\n",
       "      <th>25%</th>\n",
       "      <td>4.650000</td>\n",
       "      <td>2.567090e+05</td>\n",
       "      <td>33.341160</td>\n",
       "      <td>-115.015666</td>\n",
       "      <td>15.474609</td>\n",
       "      <td>12.311458</td>\n",
       "      <td>409.314650</td>\n",
       "      <td>216.000000</td>\n",
       "    </tr>\n",
       "    <tr>\n",
       "      <th>50%</th>\n",
       "      <td>12.000000</td>\n",
       "      <td>3.791460e+05</td>\n",
       "      <td>36.158323</td>\n",
       "      <td>-96.692042</td>\n",
       "      <td>160.461349</td>\n",
       "      <td>15.791667</td>\n",
       "      <td>917.346400</td>\n",
       "      <td>233.500000</td>\n",
       "    </tr>\n",
       "    <tr>\n",
       "      <th>75%</th>\n",
       "      <td>19.750000</td>\n",
       "      <td>6.251940e+05</td>\n",
       "      <td>39.731883</td>\n",
       "      <td>-82.909096</td>\n",
       "      <td>281.286751</td>\n",
       "      <td>18.981481</td>\n",
       "      <td>1148.905500</td>\n",
       "      <td>238.000000</td>\n",
       "    </tr>\n",
       "    <tr>\n",
       "      <th>max</th>\n",
       "      <td>96.000000</td>\n",
       "      <td>8.405837e+06</td>\n",
       "      <td>61.218056</td>\n",
       "      <td>-71.058880</td>\n",
       "      <td>1831.081909</td>\n",
       "      <td>24.690476</td>\n",
       "      <td>1593.469000</td>\n",
       "      <td>246.000000</td>\n",
       "    </tr>\n",
       "  </tbody>\n",
       "</table>\n",
       "</div>"
      ],
      "text/plain": [
       "       Growth From 2000 to 2013    Population    Latitude   Longitude  \\\n",
       "count                100.000000  1.000000e+02  100.000000  100.000000   \n",
       "mean                  14.213000  6.199111e+05   36.357787  -98.386528   \n",
       "std                   19.079359  9.465627e+05    5.409962   17.693713   \n",
       "min                  -27.100000  2.137080e+05   21.306944 -157.858333   \n",
       "25%                    4.650000  2.567090e+05   33.341160 -115.015666   \n",
       "50%                   12.000000  3.791460e+05   36.158323  -96.692042   \n",
       "75%                   19.750000  6.251940e+05   39.731883  -82.909096   \n",
       "max                   96.000000  8.405837e+06   61.218056  -71.058880   \n",
       "\n",
       "         elevation  Avg_temperature  Avg_percipitation  Count of Venues  \n",
       "count   100.000000       100.000000         100.000000       100.000000  \n",
       "mean    256.796582        15.904044         817.740830       219.550000  \n",
       "std     375.614880         4.658078         406.472148        32.417533  \n",
       "min       0.521789         2.372222         122.936000        88.000000  \n",
       "25%      15.474609        12.311458         409.314650       216.000000  \n",
       "50%     160.461349        15.791667         917.346400       233.500000  \n",
       "75%     281.286751        18.981481        1148.905500       238.000000  \n",
       "max    1831.081909        24.690476        1593.469000       246.000000  "
      ]
     },
     "execution_count": 20,
     "metadata": {},
     "output_type": "execute_result"
    }
   ],
   "source": [
    "df.describe()"
   ]
  },
  {
   "cell_type": "markdown",
   "metadata": {},
   "source": [
    "# Part 3: Explanatory data analysis"
   ]
  },
  {
   "cell_type": "markdown",
   "metadata": {},
   "source": [
    "Let's start off our data analysis by looking at correlation between columns in the dataset through the use of a heatmap."
   ]
  },
  {
   "cell_type": "code",
   "execution_count": 21,
   "metadata": {},
   "outputs": [
    {
     "data": {
      "image/png": "[encoded data removed]",
      "text/plain": [
       "<Figure size 432x288 with 2 Axes>"
      ]
     },
     "metadata": {
      "needs_background": "light"
     },
     "output_type": "display_data"
    }
   ],
   "source": [
    "corr = df.corr()\n",
    "ax = sns.heatmap(\n",
    "    corr, \n",
    "    vmin=-1, vmax=1, center=0,\n",
    "    annot=True,\n",
    "    cmap='coolwarm',\n",
    "    square=True\n",
    ")\n",
    "ax.set_xticklabels(\n",
    "    ax.get_xticklabels(),\n",
    "    rotation=45,\n",
    "    horizontalalignment='right'\n",
    ");"
   ]
  },
  {
   "cell_type": "markdown",
   "metadata": {},
   "source": [
    "It seems like there's a strong negative correlation between average temperature and Latitude and a positive correlation between average percipitation and Longitude. Let's further analyse the correlation between these variables, starting off with the dependance between the average annual temperature and coordinate latitude:"
   ]
  },
  {
   "cell_type": "code",
   "execution_count": 22,
   "metadata": {},
   "outputs": [
    {
     "name": "stderr",
     "output_type": "stream",
     "text": [
      "/opt/conda/envs/Python36/lib/python3.6/site-packages/seaborn/axisgrid.py:1847: UserWarning: JointGrid annotation is deprecated and will be removed in a future release.\n",
      "  warnings.warn(UserWarning(msg))\n"
     ]
    },
    {
     "data": {
      "text/plain": [
       "<seaborn.axisgrid.JointGrid at 0x7f9ca7f73940>"
      ]
     },
     "execution_count": 22,
     "metadata": {},
     "output_type": "execute_result"
    },
    {
     "data": {
      "image/png": "[encoded data removed]",
      "text/plain": [
       "<Figure size 432x432 with 3 Axes>"
      ]
     },
     "metadata": {
      "needs_background": "light"
     },
     "output_type": "display_data"
    }
   ],
   "source": [
    "g = sns.jointplot(x=\"Latitude\", y=\"Avg_temperature\", data=df, kind=\"kde\")\n",
    "g.plot_joint(plt.scatter, c=\"w\", s=30, linewidth=1, marker=\"x\").annotate(stats.pearsonr)"
   ]
  },
  {
   "cell_type": "markdown",
   "metadata": {},
   "source": [
    "We see an R (correlation coefficient) of -0.9 and an extremely low p-value (e^-36). This is a perfect example of a very strong negative correlation. Therefore, we can conclude that the average annual temperature decreases when the latitude increases. This is very obvious as the latitude increases when we travel further North so we would expect a lower average temperature. Our data confirms this finding. Now, let's take a look at the second relationship."
   ]
  },
  {
   "cell_type": "code",
   "execution_count": 23,
   "metadata": {},
   "outputs": [
    {
     "name": "stderr",
     "output_type": "stream",
     "text": [
      "/opt/conda/envs/Python36/lib/python3.6/site-packages/seaborn/axisgrid.py:1847: UserWarning: JointGrid annotation is deprecated and will be removed in a future release.\n",
      "  warnings.warn(UserWarning(msg))\n"
     ]
    },
    {
     "data": {
      "text/plain": [
       "<seaborn.axisgrid.JointGrid at 0x7f9ca7f8e400>"
      ]
     },
     "execution_count": 23,
     "metadata": {},
     "output_type": "execute_result"
    },
    {
     "data": {
      "image/png": "[encoded data removed]",
      "text/plain": [
       "<Figure size 432x432 with 3 Axes>"
      ]
     },
     "metadata": {
      "needs_background": "light"
     },
     "output_type": "display_data"
    }
   ],
   "source": [
    "g = sns.jointplot(x=\"Longitude\", y=\"Avg_percipitation\", color='tab:orange', data=df, kind=\"kde\")\n",
    "g.plot_joint(plt.scatter, c=\"w\", s=30, linewidth=1, marker=\"x\").annotate(stats.pearsonr)"
   ]
  },
  {
   "cell_type": "markdown",
   "metadata": {},
   "source": [
    "It becomes clear that we are dealing with two seperate clusters, one around a longitude of approximately -115 and one around -85. We also notice a pretty decent positive R value and again a very low p-value. It seems like the average annual percipitation increases as the longitude decreases. A decrease in longitude means a move towards the East. Therefore, we conclude that on average, west coast cities are much dryer than their east coast counterparts. Now let's determine if this is caused by a difference in Latitude."
   ]
  },
  {
   "cell_type": "code",
   "execution_count": 24,
   "metadata": {},
   "outputs": [
    {
     "data": {
      "text/plain": [
       "Text(0.5, 1.05, 'Average annual percipitation based on coordinate vector.')"
      ]
     },
     "execution_count": 24,
     "metadata": {},
     "output_type": "execute_result"
    },
    {
     "data": {
      "image/png": "[encoded data removed]",
      "text/plain": [
       "<Figure size 432x288 with 1 Axes>"
      ]
     },
     "metadata": {
      "needs_background": "light"
     },
     "output_type": "display_data"
    }
   ],
   "source": [
    "plt.scatter(x = \"Longitude\", \n",
    "            y = \"Latitude\", \n",
    "            s = \"Avg_percipitation\",\n",
    "            data=df,\n",
    "            alpha=0.4, \n",
    "            edgecolors='w')\n",
    "\n",
    "plt.xlabel(\"Longitude\")\n",
    "plt.ylabel(\"Latitude\")\n",
    "plt.title(\"Average annual percipitation based on coordinate vector.\", y=1.05)"
   ]
  },
  {
   "cell_type": "markdown",
   "metadata": {},
   "source": [
    "We notice some exceptions on the west coast but overall we can say that the average annual percipitation does not seem to depend on the latitude coordinates. Let's check if it is more dependent on the elevation."
   ]
  },
  {
   "cell_type": "code",
   "execution_count": 25,
   "metadata": {},
   "outputs": [
    {
     "name": "stderr",
     "output_type": "stream",
     "text": [
      "/opt/conda/envs/Python36/lib/python3.6/site-packages/seaborn/axisgrid.py:1847: UserWarning: JointGrid annotation is deprecated and will be removed in a future release.\n",
      "  warnings.warn(UserWarning(msg))\n"
     ]
    },
    {
     "data": {
      "text/plain": [
       "<seaborn.axisgrid.JointGrid at 0x7f9ca7fcf6a0>"
      ]
     },
     "execution_count": 25,
     "metadata": {},
     "output_type": "execute_result"
    },
    {
     "data": {
      "image/png": "[encoded data removed]",
      "text/plain": [
       "<Figure size 432x432 with 3 Axes>"
      ]
     },
     "metadata": {
      "needs_background": "light"
     },
     "output_type": "display_data"
    }
   ],
   "source": [
    "g = sns.jointplot(x=\"elevation\", y=\"Avg_percipitation\", color='tab:green', data=df, kind=\"kde\")\n",
    "g.plot_joint(plt.scatter, c=\"w\", s=30, linewidth=1, marker=\"x\").annotate(stats.pearsonr)"
   ]
  },
  {
   "cell_type": "markdown",
   "metadata": {},
   "source": [
    "It is hard to make out a definite relationship between these variables due to the different apparent clusters. We could use a clustering algorithm to seperate the clusters and calculate the correlation statistics again but this is out of scope for this assignment. Overall it seems like there is a negative correlation between the average annual percipication and the elevation, this means that higher cities are usually dryer year around. Finally, let's take a look at the relationship between annual percipitation and average annual growth as this also appeared to be noticable from the heatmap."
   ]
  },
  {
   "cell_type": "code",
   "execution_count": 26,
   "metadata": {},
   "outputs": [
    {
     "name": "stderr",
     "output_type": "stream",
     "text": [
      "/opt/conda/envs/Python36/lib/python3.6/site-packages/seaborn/axisgrid.py:1847: UserWarning: JointGrid annotation is deprecated and will be removed in a future release.\n",
      "  warnings.warn(UserWarning(msg))\n"
     ]
    },
    {
     "data": {
      "text/plain": [
       "<seaborn.axisgrid.JointGrid at 0x7f9cb2992630>"
      ]
     },
     "execution_count": 26,
     "metadata": {},
     "output_type": "execute_result"
    },
    {
     "data": {
      "image/png": "[encoded data removed]",
      "text/plain": [
       "<Figure size 432x432 with 3 Axes>"
      ]
     },
     "metadata": {
      "needs_background": "light"
     },
     "output_type": "display_data"
    }
   ],
   "source": [
    "g = sns.jointplot(x=\"Avg_percipitation\", y=\"Growth From 2000 to 2013\", color='tab:gray', data=df, kind=\"kde\")\n",
    "g.plot_joint(plt.scatter, c=\"w\", s=30, linewidth=1, marker=\"x\").annotate(stats.pearsonr)"
   ]
  },
  {
   "cell_type": "markdown",
   "metadata": {},
   "source": [
    "Again, it's hard to make out as we're dealing with two seperate clusters but it seems like a higher annual percipitation means a lower growth in population. This means dryer cities are more favourable to most people compared to wetter cities."
   ]
  },
  {
   "cell_type": "markdown",
   "metadata": {},
   "source": [
    "# Part 4: Feature selection"
   ]
  },
  {
   "cell_type": "markdown",
   "metadata": {},
   "source": [
    "Now let's create our feature set based on the data, to start off we will only select relevant numerical data."
   ]
  },
  {
   "cell_type": "code",
   "execution_count": 159,
   "metadata": {},
   "outputs": [
    {
     "data": {
      "text/html": [
       "<div>\n",
       "<style scoped>\n",
       "    .dataframe tbody tr th:only-of-type {\n",
       "        vertical-align: middle;\n",
       "    }\n",
       "\n",
       "    .dataframe tbody tr th {\n",
       "        vertical-align: top;\n",
       "    }\n",
       "\n",
       "    .dataframe thead th {\n",
       "        text-align: right;\n",
       "    }\n",
       "</style>\n",
       "<table border=\"1\" class=\"dataframe\">\n",
       "  <thead>\n",
       "    <tr style=\"text-align: right;\">\n",
       "      <th></th>\n",
       "      <th>Growth From 2000 to 2013</th>\n",
       "      <th>Population</th>\n",
       "      <th>elevation</th>\n",
       "      <th>Avg_temperature</th>\n",
       "      <th>Avg_percipitation</th>\n",
       "      <th>Count of Venues</th>\n",
       "    </tr>\n",
       "    <tr>\n",
       "      <th>Rank</th>\n",
       "      <th></th>\n",
       "      <th></th>\n",
       "      <th></th>\n",
       "      <th></th>\n",
       "      <th></th>\n",
       "      <th></th>\n",
       "    </tr>\n",
       "  </thead>\n",
       "  <tbody>\n",
       "    <tr>\n",
       "      <th>1</th>\n",
       "      <td>4.8</td>\n",
       "      <td>8405837</td>\n",
       "      <td>13.347621</td>\n",
       "      <td>12.793651</td>\n",
       "      <td>1208.0240</td>\n",
       "      <td>237</td>\n",
       "    </tr>\n",
       "    <tr>\n",
       "      <th>2</th>\n",
       "      <td>4.8</td>\n",
       "      <td>3884307</td>\n",
       "      <td>86.847092</td>\n",
       "      <td>18.061111</td>\n",
       "      <td>408.1272</td>\n",
       "      <td>236</td>\n",
       "    </tr>\n",
       "    <tr>\n",
       "      <th>3</th>\n",
       "      <td>-6.1</td>\n",
       "      <td>2718782</td>\n",
       "      <td>183.000000</td>\n",
       "      <td>11.111111</td>\n",
       "      <td>978.5350</td>\n",
       "      <td>237</td>\n",
       "    </tr>\n",
       "    <tr>\n",
       "      <th>4</th>\n",
       "      <td>11.0</td>\n",
       "      <td>2195914</td>\n",
       "      <td>14.566981</td>\n",
       "      <td>21.388889</td>\n",
       "      <td>1337.0560</td>\n",
       "      <td>242</td>\n",
       "    </tr>\n",
       "    <tr>\n",
       "      <th>5</th>\n",
       "      <td>2.6</td>\n",
       "      <td>1553165</td>\n",
       "      <td>14.326541</td>\n",
       "      <td>13.333333</td>\n",
       "      <td>1176.0835</td>\n",
       "      <td>238</td>\n",
       "    </tr>\n",
       "  </tbody>\n",
       "</table>\n",
       "</div>"
      ],
      "text/plain": [
       "      Growth From 2000 to 2013  Population   elevation  Avg_temperature  \\\n",
       "Rank                                                                      \n",
       "1                          4.8     8405837   13.347621        12.793651   \n",
       "2                          4.8     3884307   86.847092        18.061111   \n",
       "3                         -6.1     2718782  183.000000        11.111111   \n",
       "4                         11.0     2195914   14.566981        21.388889   \n",
       "5                          2.6     1553165   14.326541        13.333333   \n",
       "\n",
       "      Avg_percipitation  Count of Venues  \n",
       "Rank                                      \n",
       "1             1208.0240              237  \n",
       "2              408.1272              236  \n",
       "3              978.5350              237  \n",
       "4             1337.0560              242  \n",
       "5             1176.0835              238  "
      ]
     },
     "execution_count": 159,
     "metadata": {},
     "output_type": "execute_result"
    }
   ],
   "source": [
    "Features = df[['Growth From 2000 to 2013','Population','elevation','Avg_temperature','Avg_percipitation','Count of Venues']]\n",
    "Features.head()"
   ]
  },
  {
   "cell_type": "markdown",
   "metadata": {},
   "source": [
    "Let's set X as independent variables equal to the feature set."
   ]
  },
  {
   "cell_type": "code",
   "execution_count": 160,
   "metadata": {},
   "outputs": [],
   "source": [
    "X = Features"
   ]
  },
  {
   "cell_type": "markdown",
   "metadata": {},
   "source": [
    "### Normalizing data"
   ]
  },
  {
   "cell_type": "markdown",
   "metadata": {},
   "source": [
    "We will use the StandardScaler package from sklearn to transform the featureset into normalized data."
   ]
  },
  {
   "cell_type": "code",
   "execution_count": 161,
   "metadata": {},
   "outputs": [
    {
     "name": "stderr",
     "output_type": "stream",
     "text": [
      "/opt/conda/envs/Python36/lib/python3.6/site-packages/sklearn/preprocessing/data.py:645: DataConversionWarning: Data with input dtype int64, float64 were all converted to float64 by StandardScaler.\n",
      "  return self.partial_fit(X, y)\n",
      "/opt/conda/envs/Python36/lib/python3.6/site-packages/ipykernel/__main__.py:1: DataConversionWarning: Data with input dtype int64, float64 were all converted to float64 by StandardScaler.\n",
      "  if __name__ == '__main__':\n"
     ]
    },
    {
     "data": {
      "text/plain": [
       "array([[-0.49584584,  8.26691178, -0.65139968, -0.67110569,  0.96500916,\n",
       "         0.54100075],\n",
       "       [-0.49584584,  3.4660583 , -0.45473615,  0.46541395, -1.0128054 ,\n",
       "         0.50999784],\n",
       "       [-1.07002195,  2.22853146, -0.19745851, -1.03413441,  0.3975776 ,\n",
       "         0.54100075],\n",
       "       [-0.16925026,  1.6733626 , -0.64813702,  1.18342312,  1.28405202,\n",
       "         0.69601529],\n",
       "       [-0.6117346 ,  0.99090693, -0.64878037, -0.55466251,  0.88603349,\n",
       "         0.57200366]])"
      ]
     },
     "execution_count": 161,
     "metadata": {},
     "output_type": "execute_result"
    }
   ],
   "source": [
    "X = StandardScaler().fit(X).transform(X)\n",
    "X[0:5]"
   ]
  },
  {
   "cell_type": "markdown",
   "metadata": {},
   "source": [
    "### Vectorizing strings"
   ]
  },
  {
   "cell_type": "markdown",
   "metadata": {},
   "source": [
    "Now that we have our normalized numerical data available we will add our textual data. In order to merge both forms of data, we will first use the CountVectorizer from the sklearn package to convert the BagOfWords column to an array with the count of occurance for every category. The result is an nxm matrix with n cities and m available categories."
   ]
  },
  {
   "cell_type": "code",
   "execution_count": 162,
   "metadata": {},
   "outputs": [
    {
     "data": {
      "text/plain": [
       "array([[0, 0, 0, 0, 0, 0, 0, 0, 0, 0, 0, 0, 0, 0, 0, 0, 0, 0, 0, 0, 0, 0,\n",
       "        0, 0, 0, 0, 0, 1, 0, 1, 0, 0, 0, 0, 0, 1, 0, 0, 0, 0, 0, 0, 0, 0,\n",
       "        0, 0, 0, 0, 0, 0, 0, 0],\n",
       "       [0, 1, 0, 0, 0, 0, 0, 0, 0, 0, 0, 0, 0, 0, 0, 0, 1, 0, 0, 0, 0, 0,\n",
       "        0, 0, 0, 0, 0, 0, 1, 0, 0, 0, 0, 0, 0, 0, 0, 0, 0, 0, 0, 0, 0, 0,\n",
       "        0, 0, 0, 0, 0, 0, 0, 0],\n",
       "       [0, 0, 0, 0, 0, 0, 0, 0, 0, 0, 0, 0, 0, 0, 0, 0, 0, 0, 0, 0, 0, 0,\n",
       "        0, 0, 0, 0, 0, 1, 0, 0, 0, 0, 0, 0, 0, 1, 0, 0, 0, 0, 0, 0, 0, 0,\n",
       "        0, 1, 0, 0, 0, 0, 0, 0],\n",
       "       [0, 0, 0, 0, 0, 0, 0, 0, 0, 0, 1, 0, 0, 0, 0, 1, 0, 0, 0, 0, 0, 0,\n",
       "        0, 0, 0, 0, 0, 1, 0, 0, 0, 0, 0, 0, 0, 0, 0, 0, 0, 0, 0, 0, 0, 0,\n",
       "        0, 0, 0, 0, 0, 0, 0, 0],\n",
       "       [0, 0, 0, 0, 0, 0, 0, 0, 0, 0, 0, 0, 0, 0, 0, 0, 1, 0, 0, 0, 0, 0,\n",
       "        0, 0, 0, 0, 0, 0, 0, 0, 0, 0, 0, 0, 0, 0, 1, 0, 0, 0, 0, 0, 0, 0,\n",
       "        0, 0, 0, 0, 0, 1, 1, 0]], dtype=int64)"
      ]
     },
     "execution_count": 162,
     "metadata": {},
     "output_type": "execute_result"
    }
   ],
   "source": [
    "count_matrix = CountVectorizer().fit_transform(df['BagOfWords']).toarray()\n",
    "count_matrix[0:5]"
   ]
  },
  {
   "cell_type": "markdown",
   "metadata": {},
   "source": [
    "Finally, we are ready to merge the two featuresets together."
   ]
  },
  {
   "cell_type": "code",
   "execution_count": 163,
   "metadata": {},
   "outputs": [
    {
     "data": {
      "text/plain": [
       "array([[-0.49584584,  8.26691178, -0.65139968, ...,  0.        ,\n",
       "         0.        ,  0.        ],\n",
       "       [-0.49584584,  3.4660583 , -0.45473615, ...,  0.        ,\n",
       "         0.        ,  0.        ],\n",
       "       [-1.07002195,  2.22853146, -0.19745851, ...,  0.        ,\n",
       "         0.        ,  0.        ],\n",
       "       ...,\n",
       "       [-0.24826532, -0.43073511,  1.49927049, ...,  0.        ,\n",
       "         0.        ,  0.        ],\n",
       "       [-0.31674504, -0.43086571, -0.54812842, ...,  0.        ,\n",
       "         0.        ,  0.        ],\n",
       "       [-0.06389685, -0.43129679,  0.16855196, ...,  0.        ,\n",
       "         0.        ,  0.        ]])"
      ]
     },
     "execution_count": 163,
     "metadata": {},
     "output_type": "execute_result"
    }
   ],
   "source": [
    "X = np.concatenate((X, count_matrix), axis=1)\n",
    "X"
   ]
  },
  {
   "cell_type": "markdown",
   "metadata": {},
   "source": [
    "# Part 5: Modelling"
   ]
  },
  {
   "cell_type": "markdown",
   "metadata": {},
   "source": [
    "For our model we determined that a user should be able to input cities that they have enjoyed visiting, which will be processed by our recommender system to provide 5 matching cities based on the user's input. Because we do not have access to other user's preferences at the start of implementing this system, we will be building a content-based recommender system that uses the cosine similarity metric to determine similarity scores between the user preference and every other city. This score is quite easy to calculate by using cosine_similarity() from sklearn's package."
   ]
  },
  {
   "cell_type": "code",
   "execution_count": 164,
   "metadata": {},
   "outputs": [],
   "source": [
    "# Construct a reverse map of indices and cities\n",
    "indices = pd.Series(df.index, index=df['City']).drop_duplicates()"
   ]
  },
  {
   "cell_type": "markdown",
   "metadata": {},
   "source": [
    "### Recommender Engine"
   ]
  },
  {
   "cell_type": "code",
   "execution_count": 345,
   "metadata": {},
   "outputs": [],
   "source": [
    "def get_recommendations(usr_input):\n",
    "    # Get the index of the preferred cities and shift by one\n",
    "    idx = [indices[n] - 1 for n in usr_input]\n",
    "\n",
    "    # Lookup the corresponding featuresets for provided indices and concatenate them\n",
    "    Y = np.concatenate([[X[m]] for m in idx])\n",
    "\n",
    "    # Calculate the average preferred feature vector and reshape array\n",
    "    Y = np.mean(Y, axis=0).reshape(1, -1)\n",
    "    \n",
    "    # Compute the cosine similarity matrix between the preferred vector and the featureset\n",
    "    cossim = cosine_similarity(Y, X)\n",
    "\n",
    "    # Get the pairwise similarity scores for all cities with that vector\n",
    "    sim_scores = list(enumerate(cossim[0]))\n",
    "\n",
    "    # Remove cities that are already mentioned in the user input\n",
    "    [sim_scores.pop(z) for z in sorted(idx, reverse=True)]\n",
    "\n",
    "    # Sort the remaining cities based on their similarity scores\n",
    "    sim_scores = sorted(sim_scores, key=lambda x: x[1], reverse=True)\n",
    "    \n",
    "    # Filter and obtain the 5 cities with the highest similarity scores\n",
    "    sim_scores = sim_scores[0:5]\n",
    "\n",
    "    # Fetch these city's indices\n",
    "    city_indices = [i[0] for i in sim_scores]\n",
    "\n",
    "    # Clean the scores and transform to a presentable format\n",
    "    sim_scores = pd.Series([\"{:.2%}\".format(i[1]) for i in sim_scores])\n",
    "    sim_scores.name = 'Score'\n",
    "    \n",
    "    # Return the top 5 recommended cities with their corresponding similarity scores\n",
    "    result = pd.concat([df['City'].iloc[city_indices].reset_index(), sim_scores], axis=1)\n",
    "    \n",
    "    return result"
   ]
  },
  {
   "cell_type": "markdown",
   "metadata": {},
   "source": [
    "Now that our engine is setup, it's time to test some examples."
   ]
  },
  {
   "cell_type": "code",
   "execution_count": 347,
   "metadata": {},
   "outputs": [
    {
     "data": {
      "text/html": [
       "<div>\n",
       "<style scoped>\n",
       "    .dataframe tbody tr th:only-of-type {\n",
       "        vertical-align: middle;\n",
       "    }\n",
       "\n",
       "    .dataframe tbody tr th {\n",
       "        vertical-align: top;\n",
       "    }\n",
       "\n",
       "    .dataframe thead th {\n",
       "        text-align: right;\n",
       "    }\n",
       "</style>\n",
       "<table border=\"1\" class=\"dataframe\">\n",
       "  <thead>\n",
       "    <tr style=\"text-align: right;\">\n",
       "      <th></th>\n",
       "      <th>Rank</th>\n",
       "      <th>City</th>\n",
       "      <th>Score</th>\n",
       "    </tr>\n",
       "  </thead>\n",
       "  <tbody>\n",
       "    <tr>\n",
       "      <th>0</th>\n",
       "      <td>3</td>\n",
       "      <td>Chicago</td>\n",
       "      <td>77.21%</td>\n",
       "    </tr>\n",
       "    <tr>\n",
       "      <th>1</th>\n",
       "      <td>4</td>\n",
       "      <td>Houston</td>\n",
       "      <td>57.12%</td>\n",
       "    </tr>\n",
       "    <tr>\n",
       "      <th>2</th>\n",
       "      <td>7</td>\n",
       "      <td>San Antonio</td>\n",
       "      <td>50.36%</td>\n",
       "    </tr>\n",
       "    <tr>\n",
       "      <th>3</th>\n",
       "      <td>6</td>\n",
       "      <td>Phoenix</td>\n",
       "      <td>47.57%</td>\n",
       "    </tr>\n",
       "    <tr>\n",
       "      <th>4</th>\n",
       "      <td>9</td>\n",
       "      <td>Dallas</td>\n",
       "      <td>45.03%</td>\n",
       "    </tr>\n",
       "  </tbody>\n",
       "</table>\n",
       "</div>"
      ],
      "text/plain": [
       "   Rank         City   Score\n",
       "0     3      Chicago  77.21%\n",
       "1     4      Houston  57.12%\n",
       "2     7  San Antonio  50.36%\n",
       "3     6      Phoenix  47.57%\n",
       "4     9       Dallas  45.03%"
      ]
     },
     "execution_count": 347,
     "metadata": {},
     "output_type": "execute_result"
    }
   ],
   "source": [
    "get_recommendations(['Los Angeles', 'San Diego', 'New York'])"
   ]
  },
  {
   "cell_type": "code",
   "execution_count": 348,
   "metadata": {},
   "outputs": [
    {
     "data": {
      "text/html": [
       "<div>\n",
       "<style scoped>\n",
       "    .dataframe tbody tr th:only-of-type {\n",
       "        vertical-align: middle;\n",
       "    }\n",
       "\n",
       "    .dataframe tbody tr th {\n",
       "        vertical-align: top;\n",
       "    }\n",
       "\n",
       "    .dataframe thead th {\n",
       "        text-align: right;\n",
       "    }\n",
       "</style>\n",
       "<table border=\"1\" class=\"dataframe\">\n",
       "  <thead>\n",
       "    <tr style=\"text-align: right;\">\n",
       "      <th></th>\n",
       "      <th>Rank</th>\n",
       "      <th>City</th>\n",
       "      <th>Score</th>\n",
       "    </tr>\n",
       "  </thead>\n",
       "  <tbody>\n",
       "    <tr>\n",
       "      <th>0</th>\n",
       "      <td>78</td>\n",
       "      <td>St. Petersburg</td>\n",
       "      <td>73.86%</td>\n",
       "    </tr>\n",
       "    <tr>\n",
       "      <th>1</th>\n",
       "      <td>93</td>\n",
       "      <td>Baton Rouge</td>\n",
       "      <td>73.57%</td>\n",
       "    </tr>\n",
       "    <tr>\n",
       "      <th>2</th>\n",
       "      <td>77</td>\n",
       "      <td>Orlando</td>\n",
       "      <td>72.17%</td>\n",
       "    </tr>\n",
       "    <tr>\n",
       "      <th>3</th>\n",
       "      <td>54</td>\n",
       "      <td>Honolulu</td>\n",
       "      <td>67.41%</td>\n",
       "    </tr>\n",
       "    <tr>\n",
       "      <th>4</th>\n",
       "      <td>51</td>\n",
       "      <td>New Orleans</td>\n",
       "      <td>63.83%</td>\n",
       "    </tr>\n",
       "  </tbody>\n",
       "</table>\n",
       "</div>"
      ],
      "text/plain": [
       "   Rank            City   Score\n",
       "0    78  St. Petersburg  73.86%\n",
       "1    93     Baton Rouge  73.57%\n",
       "2    77         Orlando  72.17%\n",
       "3    54        Honolulu  67.41%\n",
       "4    51     New Orleans  63.83%"
      ]
     },
     "execution_count": 348,
     "metadata": {},
     "output_type": "execute_result"
    }
   ],
   "source": [
    "get_recommendations(['Tampa', 'Miami'])"
   ]
  },
  {
   "cell_type": "code",
   "execution_count": 349,
   "metadata": {},
   "outputs": [
    {
     "data": {
      "text/html": [
       "<div>\n",
       "<style scoped>\n",
       "    .dataframe tbody tr th:only-of-type {\n",
       "        vertical-align: middle;\n",
       "    }\n",
       "\n",
       "    .dataframe tbody tr th {\n",
       "        vertical-align: top;\n",
       "    }\n",
       "\n",
       "    .dataframe thead th {\n",
       "        text-align: right;\n",
       "    }\n",
       "</style>\n",
       "<table border=\"1\" class=\"dataframe\">\n",
       "  <thead>\n",
       "    <tr style=\"text-align: right;\">\n",
       "      <th></th>\n",
       "      <th>Rank</th>\n",
       "      <th>City</th>\n",
       "      <th>Score</th>\n",
       "    </tr>\n",
       "  </thead>\n",
       "  <tbody>\n",
       "    <tr>\n",
       "      <th>0</th>\n",
       "      <td>83</td>\n",
       "      <td>Madison</td>\n",
       "      <td>69.88%</td>\n",
       "    </tr>\n",
       "    <tr>\n",
       "      <th>1</th>\n",
       "      <td>31</td>\n",
       "      <td>Milwaukee</td>\n",
       "      <td>63.26%</td>\n",
       "    </tr>\n",
       "    <tr>\n",
       "      <th>2</th>\n",
       "      <td>76</td>\n",
       "      <td>Fort Wayne</td>\n",
       "      <td>59.14%</td>\n",
       "    </tr>\n",
       "    <tr>\n",
       "      <th>3</th>\n",
       "      <td>42</td>\n",
       "      <td>Omaha</td>\n",
       "      <td>53.75%</td>\n",
       "    </tr>\n",
       "    <tr>\n",
       "      <th>4</th>\n",
       "      <td>72</td>\n",
       "      <td>Lincoln</td>\n",
       "      <td>53.03%</td>\n",
       "    </tr>\n",
       "  </tbody>\n",
       "</table>\n",
       "</div>"
      ],
      "text/plain": [
       "   Rank        City   Score\n",
       "0    83     Madison  69.88%\n",
       "1    31   Milwaukee  63.26%\n",
       "2    76  Fort Wayne  59.14%\n",
       "3    42       Omaha  53.75%\n",
       "4    72     Lincoln  53.03%"
      ]
     },
     "execution_count": 349,
     "metadata": {},
     "output_type": "execute_result"
    }
   ],
   "source": [
    "get_recommendations(['Seattle', 'Anchorage'])"
   ]
  },
  {
   "cell_type": "code",
   "execution_count": 351,
   "metadata": {},
   "outputs": [
    {
     "data": {
      "text/html": [
       "<div>\n",
       "<style scoped>\n",
       "    .dataframe tbody tr th:only-of-type {\n",
       "        vertical-align: middle;\n",
       "    }\n",
       "\n",
       "    .dataframe tbody tr th {\n",
       "        vertical-align: top;\n",
       "    }\n",
       "\n",
       "    .dataframe thead th {\n",
       "        text-align: right;\n",
       "    }\n",
       "</style>\n",
       "<table border=\"1\" class=\"dataframe\">\n",
       "  <thead>\n",
       "    <tr style=\"text-align: right;\">\n",
       "      <th></th>\n",
       "      <th>Rank</th>\n",
       "      <th>City</th>\n",
       "      <th>Score</th>\n",
       "    </tr>\n",
       "  </thead>\n",
       "  <tbody>\n",
       "    <tr>\n",
       "      <th>0</th>\n",
       "      <td>32</td>\n",
       "      <td>Albuquerque</td>\n",
       "      <td>85.59%</td>\n",
       "    </tr>\n",
       "    <tr>\n",
       "      <th>1</th>\n",
       "      <td>22</td>\n",
       "      <td>Denver</td>\n",
       "      <td>75.43%</td>\n",
       "    </tr>\n",
       "    <tr>\n",
       "      <th>2</th>\n",
       "      <td>55</td>\n",
       "      <td>Aurora</td>\n",
       "      <td>75.08%</td>\n",
       "    </tr>\n",
       "    <tr>\n",
       "      <th>3</th>\n",
       "      <td>19</td>\n",
       "      <td>El Paso</td>\n",
       "      <td>71.92%</td>\n",
       "    </tr>\n",
       "    <tr>\n",
       "      <th>4</th>\n",
       "      <td>98</td>\n",
       "      <td>Boise City</td>\n",
       "      <td>69.49%</td>\n",
       "    </tr>\n",
       "  </tbody>\n",
       "</table>\n",
       "</div>"
      ],
      "text/plain": [
       "   Rank         City   Score\n",
       "0    32  Albuquerque  85.59%\n",
       "1    22       Denver  75.43%\n",
       "2    55       Aurora  75.08%\n",
       "3    19      El Paso  71.92%\n",
       "4    98   Boise City  69.49%"
      ]
     },
     "execution_count": 351,
     "metadata": {},
     "output_type": "execute_result"
    }
   ],
   "source": [
    "get_recommendations(['Las Vegas', 'Reno'])"
   ]
  },
  {
   "cell_type": "markdown",
   "metadata": {},
   "source": [
    "That seems to be working perfectly, thank you for reading!"
   ]
  },
  {
   "cell_type": "code",
   "execution_count": null,
   "metadata": {},
   "outputs": [],
   "source": []
  }
 ],
 "metadata": {
  "kernelspec": {
   "display_name": "Python 3.6",
   "language": "python",
   "name": "python3"
  },
  "language_info": {
   "codemirror_mode": {
    "name": "ipython",
    "version": 3
   },
   "file_extension": ".py",
   "mimetype": "text/x-python",
   "name": "python",
   "nbconvert_exporter": "python",
   "pygments_lexer": "ipython3",
   "version": "3.6.9"
  }
 },
 "nbformat": 4,
 "nbformat_minor": 1
}
